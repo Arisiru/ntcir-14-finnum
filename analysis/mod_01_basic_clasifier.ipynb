{
 "cells": [
  {
   "cell_type": "code",
   "execution_count": 1,
   "metadata": {},
   "outputs": [
    {
     "name": "stderr",
     "output_type": "stream",
     "text": [
      "Using TensorFlow backend.\n"
     ]
    }
   ],
   "source": [
    "import tensorflow as tf\n",
    "from tensorflow import keras\n",
    "import numpy as np\n",
    "import matplotlib.pyplot as plt\n",
    "from matplotlib.backends.backend_pdf import PdfPages\n",
    "import os\n",
    "import json\n",
    "from keras.callbacks import Callback\n",
    "from sklearn.metrics import confusion_matrix, f1_score, precision_score, recall_score\n",
    "from statistics import mean\n",
    "import random\n",
    "import operator"
   ]
  },
  {
   "cell_type": "code",
   "execution_count": 2,
   "metadata": {},
   "outputs": [],
   "source": [
    "os.environ['KMP_DUPLICATE_LIB_OK']='True'"
   ]
  },
  {
   "cell_type": "code",
   "execution_count": 3,
   "metadata": {},
   "outputs": [
    {
     "data": {
      "text/plain": [
       "'1.12.0'"
      ]
     },
     "execution_count": 3,
     "metadata": {},
     "output_type": "execute_result"
    }
   ],
   "source": [
    "tf.__version__"
   ]
  },
  {
   "cell_type": "code",
   "execution_count": 4,
   "metadata": {},
   "outputs": [],
   "source": [
    "dir_plots = os.path.join('..', 'plots')"
   ]
  },
  {
   "cell_type": "markdown",
   "metadata": {},
   "source": [
    "# Flags"
   ]
  },
  {
   "cell_type": "code",
   "execution_count": 5,
   "metadata": {},
   "outputs": [],
   "source": [
    "flag_run_lda_plot = False"
   ]
  },
  {
   "cell_type": "markdown",
   "metadata": {},
   "source": [
    "# Construct feature vectors"
   ]
  },
  {
   "cell_type": "markdown",
   "metadata": {},
   "source": [
    "## Read from source"
   ]
  },
  {
   "cell_type": "code",
   "execution_count": 6,
   "metadata": {},
   "outputs": [],
   "source": [
    "dir_data = os.path.join(\"..\", \"data\", \"features\")\n",
    "file_training_data = \"all_features_6.json\""
   ]
  },
  {
   "cell_type": "code",
   "execution_count": 7,
   "metadata": {},
   "outputs": [],
   "source": [
    "data_all = json.load(open(os.path.join(dir_data, file_training_data)))"
   ]
  },
  {
   "cell_type": "markdown",
   "metadata": {},
   "source": [
    "## Construct data"
   ]
  },
  {
   "cell_type": "code",
   "execution_count": 8,
   "metadata": {},
   "outputs": [],
   "source": [
    "# subcategory category\n",
    "category_prop = \"category\""
   ]
  },
  {
   "cell_type": "code",
   "execution_count": 9,
   "metadata": {},
   "outputs": [],
   "source": [
    "random.shuffle(data_all, random.random)"
   ]
  },
  {
   "cell_type": "code",
   "execution_count": 10,
   "metadata": {},
   "outputs": [],
   "source": [
    "dict_labels2id = {}\n",
    "dict_labels2amount = {}\n",
    "dict_id2label = {}\n",
    "dict_sub_categ2categ = {}\n",
    "temp_data = []\n",
    "temp_labels = []\n",
    "temp_test = {}\n",
    "\n",
    "for entry in data_all:\n",
    "    for indx, num in enumerate(entry['target_num']):\n",
    "        fe_vector = (\n",
    "            #entry['features']['topic_distr'] +\n",
    "            #entry['features']['tags_vectors'] + \n",
    "            #entry['features']['tickers_vectors']\n",
    "            #entry['features']['target_num_feature_vectors'][indx] +\n",
    "            entry['features']['target_num_terms_context_vectors'][indx]\n",
    "            #entry['features']['target_num_symbols_context_vectors'][indx]\n",
    "        )\n",
    "        if category_prop not in entry:\n",
    "            temp_test[\"%s_%s\" % (entry[\"idx\"], indx)] = fe_vector\n",
    "            continue\n",
    "        if entry[category_prop][indx] not in dict_labels2id:\n",
    "            label_id = len(dict_labels2id)\n",
    "            dict_labels2id[entry[category_prop][indx]] = label_id\n",
    "            dict_id2label[label_id] = entry[category_prop][indx] \n",
    "            dict_labels2amount[entry[category_prop][indx]] = 0\n",
    "            \n",
    "        label = dict_labels2id[entry[category_prop][indx]]\n",
    "        dict_labels2amount[entry[category_prop][indx]] += 1\n",
    "        dict_sub_categ2categ[entry['subcategory'][indx]] = entry['category'][indx]\n",
    "        \n",
    "        temp_data.append(fe_vector)\n",
    "        temp_labels.append(label)    "
   ]
  },
  {
   "cell_type": "markdown",
   "metadata": {},
   "source": [
    "## Data stats"
   ]
  },
  {
   "cell_type": "markdown",
   "metadata": {},
   "source": [
    "### Classes"
   ]
  },
  {
   "cell_type": "code",
   "execution_count": 11,
   "metadata": {},
   "outputs": [
    {
     "data": {
      "text/plain": [
       "{'Percentage': 0,\n",
       " 'Monetary': 1,\n",
       " 'Temporal': 2,\n",
       " 'Product Number': 3,\n",
       " 'Indicator': 4,\n",
       " 'Quantity': 5,\n",
       " 'Option': 6}"
      ]
     },
     "execution_count": 11,
     "metadata": {},
     "output_type": "execute_result"
    }
   ],
   "source": [
    "dict_labels2id"
   ]
  },
  {
   "cell_type": "code",
   "execution_count": 12,
   "metadata": {},
   "outputs": [
    {
     "data": {
      "image/png": "[encoded data removed]",
      "text/plain": [
       "<Figure size 576x144 with 1 Axes>"
      ]
     },
     "metadata": {
      "needs_background": "light"
     },
     "output_type": "display_data"
    }
   ],
   "source": [
    "f, ax = plt.subplots(1, 1, figsize=(8, 2))\n",
    "\n",
    "x_s = np.arange(len(dict_labels2amount))\n",
    "y_s = []\n",
    "titles = []\n",
    "for key, val in sorted(dict_labels2amount.items(), key=operator.itemgetter(1), reverse=True):\n",
    "    y_s.append(val)\n",
    "    titles.append(key.lower())\n",
    "    \n",
    "ax.bar(x_s, np.asarray(y_s), color='tab:green')\n",
    "plt.xticks(x_s, titles, rotation=90)\n",
    "\n",
    "for rect in ax.patches:\n",
    "    y_value = rect.get_height()\n",
    "    x_value = rect.get_x() + rect.get_width() / 2\n",
    "\n",
    "    label = \"%s\" % y_value\n",
    "    va = 'bottom'\n",
    "    space = 8\n",
    "    color = 'black'\n",
    "    if y_value > 2000:\n",
    "        space *= -1\n",
    "        va = 'top'\n",
    "    \n",
    "    ax.annotate(\n",
    "        label,                     \n",
    "        (x_value, y_value),         \n",
    "        xytext=(0, space),          \n",
    "        textcoords=\"offset points\", \n",
    "        ha='center',                \n",
    "        va=va,\n",
    "        color=color)                \n",
    "                                    \n",
    "pp = PdfPages(os.path.join(dir_plots, \"%s_distribution.pdf\" % category_prop))\n",
    "plt.savefig(pp, format='pdf', bbox_inches='tight')\n",
    "pp.close()"
   ]
  },
  {
   "cell_type": "code",
   "execution_count": 13,
   "metadata": {},
   "outputs": [],
   "source": [
    "numbers_per_tweet = dict()\n",
    "\n",
    "for entry in data_all:\n",
    "    if category_prop not in entry:\n",
    "        continue\n",
    "        \n",
    "    #numbers per tweet\n",
    "    amount_numbers = len(entry[category_prop])    \n",
    "    if amount_numbers not in numbers_per_tweet:\n",
    "        numbers_per_tweet[amount_numbers] = 0\n",
    "    \n",
    "    numbers_per_tweet[amount_numbers] += 1    "
   ]
  },
  {
   "cell_type": "code",
   "execution_count": 14,
   "metadata": {},
   "outputs": [
    {
     "data": {
      "image/png": "[encoded data removed]",
      "text/plain": [
       "<Figure size 576x144 with 1 Axes>"
      ]
     },
     "metadata": {
      "needs_background": "light"
     },
     "output_type": "display_data"
    }
   ],
   "source": [
    "f, ax = plt.subplots(1, 1, figsize=(8, 2))\n",
    "\n",
    "x_s = np.arange(len(numbers_per_tweet))\n",
    "y_s = []\n",
    "titles = []\n",
    "for key, val in sorted(numbers_per_tweet.items(), key=operator.itemgetter(0), reverse=False):\n",
    "    y_s.append(val)\n",
    "    titles.append(\"%s\" % key)\n",
    "\n",
    "ax.set_ylabel(\"Amount\")\n",
    "ax.set_xlabel(\"Numbers per tweet\")\n",
    "    \n",
    "ax.bar(x_s, np.asarray(y_s), color='tab:green')\n",
    "plt.xticks(x_s, titles, rotation=90)\n",
    "\n",
    "for rect in ax.patches:\n",
    "    y_value = rect.get_height()\n",
    "    x_value = rect.get_x() + rect.get_width() / 2\n",
    "\n",
    "    label = \"%s\" % y_value\n",
    "    va = 'bottom'\n",
    "    space = 8\n",
    "    color = 'black'\n",
    "    if y_value > 2000:\n",
    "        space *= -1\n",
    "        va = 'top'\n",
    "    \n",
    "    ax.annotate(\n",
    "        label,                     \n",
    "        (x_value, y_value),         \n",
    "        xytext=(0, space),          \n",
    "        textcoords=\"offset points\", \n",
    "        ha='center',                \n",
    "        va=va,\n",
    "        color=color)                \n",
    "                                    \n",
    "pp = PdfPages(os.path.join(dir_plots, \"%s_numbers_per_tweet_distribution.pdf\" % category_prop))\n",
    "plt.savefig(pp, format='pdf', bbox_inches='tight')\n",
    "pp.close()"
   ]
  },
  {
   "cell_type": "code",
   "execution_count": 15,
   "metadata": {},
   "outputs": [
    {
     "name": "stdout",
     "output_type": "stream",
     "text": [
      "{1: 3745, 2: 715, 3: 65, 4: 4}\n"
     ]
    }
   ],
   "source": [
    "classes_per_tweet = dict()\n",
    "\n",
    "for entry in data_all:\n",
    "    if category_prop not in entry:\n",
    "        continue\n",
    "        \n",
    "    #numbers per tweet\n",
    "    amount_classes = len(set(entry[category_prop]))   \n",
    "    if amount_classes not in classes_per_tweet:\n",
    "        classes_per_tweet[amount_classes] = 0\n",
    "    \n",
    "    classes_per_tweet[amount_classes] += 1    \n",
    "print(classes_per_tweet)"
   ]
  },
  {
   "cell_type": "code",
   "execution_count": 16,
   "metadata": {},
   "outputs": [
    {
     "data": {
      "image/png": "[encoded data removed]",
      "text/plain": [
       "<Figure size 576x144 with 1 Axes>"
      ]
     },
     "metadata": {
      "needs_background": "light"
     },
     "output_type": "display_data"
    }
   ],
   "source": [
    "f, ax = plt.subplots(1, 1, figsize=(8, 2))\n",
    "\n",
    "x_s = np.arange(len(classes_per_tweet))\n",
    "y_s = []\n",
    "titles = []\n",
    "for key, val in sorted(classes_per_tweet.items(), key=operator.itemgetter(0), reverse=False):\n",
    "    y_s.append(val)\n",
    "    titles.append(\"%s\" % key)\n",
    "\n",
    "ax.set_ylabel(\"Amount\")\n",
    "ax.set_xlabel(\"Unique classes per tweet\")\n",
    "    \n",
    "ax.bar(x_s, np.asarray(y_s), color='tab:green')\n",
    "plt.xticks(x_s, titles, rotation=90)\n",
    "\n",
    "for rect in ax.patches:\n",
    "    y_value = rect.get_height()\n",
    "    x_value = rect.get_x() + rect.get_width() / 2\n",
    "\n",
    "    label = \"%s\" % y_value\n",
    "    va = 'bottom'\n",
    "    space = 8\n",
    "    color = 'black'\n",
    "    if y_value > 2000:\n",
    "        space *= -1\n",
    "        va = 'top'\n",
    "    \n",
    "    ax.annotate(\n",
    "        label,                     \n",
    "        (x_value, y_value),         \n",
    "        xytext=(0, space),          \n",
    "        textcoords=\"offset points\", \n",
    "        ha='center',                \n",
    "        va=va,\n",
    "        color=color)                \n",
    "                                    \n",
    "pp = PdfPages(os.path.join(dir_plots, \"%s_classes_per_tweet_distribution.pdf\" % category_prop))\n",
    "plt.savefig(pp, format='pdf', bbox_inches='tight')\n",
    "pp.close()"
   ]
  },
  {
   "cell_type": "markdown",
   "metadata": {},
   "source": [
    "### Topic distribution"
   ]
  },
  {
   "cell_type": "code",
   "execution_count": 17,
   "metadata": {},
   "outputs": [],
   "source": [
    "if flag_run_lda_plot:\n",
    "    plt.figure(figsize=(10,10))\n",
    "    explode = (0.1, 0, 0, 0, 0, 0, 0, 0, 0, 0, 0, 0, 0, 0, 0, 0, 0, 0, 0, 0)\n",
    "    colors = ['#e6194b', '#3cb44b', '#ffe119', '#4363d8', '#f58231', '#911eb4', '#46f0f0', '#f032e6', '#bcf60c', '#fabebe', '#008080', '#e6beff', '#9a6324', '#fffac8', '#800000', '#aaffc3', '#808000', '#ffd8b1', '#000075', '#808080']\n",
    "    for i in range(9):\n",
    "        plt.subplot(3,3,i+1)\n",
    "        plt.xticks([])\n",
    "        plt.yticks([])\n",
    "        plt.grid(False)\n",
    "        plt.pie(np.asarray(temp_data[i][:20]), explode=explode, colors = colors)\n",
    "        plt.title(dict_id2label[temp_labels[i]])"
   ]
  },
  {
   "cell_type": "markdown",
   "metadata": {},
   "source": [
    "# Model"
   ]
  },
  {
   "cell_type": "code",
   "execution_count": 18,
   "metadata": {},
   "outputs": [],
   "source": [
    "global_epochs = 20"
   ]
  },
  {
   "cell_type": "code",
   "execution_count": 19,
   "metadata": {},
   "outputs": [],
   "source": [
    "def get_model():\n",
    "    model = keras.Sequential([\n",
    "        keras.layers.Dense(512, activation=tf.nn.relu),\n",
    "        keras.layers.Dropout(0.4),\n",
    "        keras.layers.Dense(256, activation=tf.nn.relu),\n",
    "        keras.layers.Dense(len(dict_labels2id), activation=tf.nn.softmax)])\n",
    "    \n",
    "    model.compile(optimizer=tf.train.AdamOptimizer(), \n",
    "              loss=\"sparse_categorical_crossentropy\",\n",
    "              metrics=[\"accuracy\"])\n",
    "    \n",
    "    return model"
   ]
  },
  {
   "cell_type": "markdown",
   "metadata": {},
   "source": [
    "## Model Evaluation"
   ]
  },
  {
   "cell_type": "markdown",
   "metadata": {},
   "source": [
    "### Custom metrics"
   ]
  },
  {
   "cell_type": "code",
   "execution_count": 20,
   "metadata": {},
   "outputs": [],
   "source": [
    "class F_Metrics(keras.callbacks.Callback):\n",
    "    # on_train_end  on_epoch_end\n",
    "    def __get_metrics(self, epoch, logs):\n",
    "        predict = [np.argmax(x) for x in self.model.predict(self.validation_data[0])]\n",
    "        targ = self.validation_data[1].flatten()\n",
    "\n",
    "        _val_f1_micro = f1_score(targ, predict, average=\"micro\")\n",
    "        _val_f1_macro = f1_score(targ, predict, average=\"macro\")\n",
    "        \n",
    "        u_targ = np.unique(targ)\n",
    "        u_predict = np.unique(predict)\n",
    "        \n",
    "        missing_classes = None\n",
    "        if len(u_targ) - len(u_predict) > 0:\n",
    "            classes = []\n",
    "            set_predicted = set(u_predict)\n",
    "            for class_id in u_targ:\n",
    "                if class_id not in set_predicted:\n",
    "                    classes.append(dict_id2label[class_id])\n",
    "            missing_classes = \"[%s]\" % \", \".join(classes)\n",
    "        else:\n",
    "            missing_classes = \"None\"\n",
    "        \n",
    "        return [_val_f1_micro, _val_f1_macro, missing_classes, np.bincount(predict, minlength=len(u_targ))]\n",
    "\n",
    "    def on_epoch_end(self, epoch, logs={}):\n",
    "        if self.params[\"verbose\"] != 0:\n",
    "            f1_micro, f1_macro, missing_classes, count = self.__get_metrics(epoch, logs)\n",
    "            print(\" - F_micro: %f - F_macro: %f - missing clasees: %s\" \n",
    "                  % (f1_micro, f1_macro, missing_classes))\n",
    "        return    \n",
    "    def on_train_end(self, epoch, logs={}):\n",
    "        self.model.custom_metrics = self.__get_metrics(epoch, logs)\n",
    "        return\n",
    "    \n",
    "    "
   ]
  },
  {
   "cell_type": "markdown",
   "metadata": {},
   "source": [
    "### Train & evaluate"
   ]
  },
  {
   "cell_type": "code",
   "execution_count": 21,
   "metadata": {},
   "outputs": [],
   "source": [
    "def train(train_data, train_label, test_data, test_labels, log=False, plot=True, split_indx=0):\n",
    "    model = get_model()\n",
    "\n",
    "    model.fit(train_data, \n",
    "              train_label, \n",
    "              epochs=global_epochs, \n",
    "              verbose=0, \n",
    "              validation_data=(test_data, test_labels), \n",
    "              callbacks=[F_Metrics()])\n",
    "    f_micro, f_macro, missing_classes, classes_count = model.custom_metrics\n",
    "    if log:\n",
    "        print(\"Run %s - F_micro: %f - F_macro: %f - missing: %s\"\n",
    "              % (split_indx, f_micro, f_macro, missing_classes))\n",
    "    if plot:\n",
    "        titles = list(dict_id2label.values())\n",
    "        plt.figure(figsize=(4,2))\n",
    "        x = np.arange(len(dict_id2label))\n",
    "        plt.bar(x, classes_count)\n",
    "        plt.xticks(x, titles, rotation='vertical')\n",
    "        plt.title(\"Run %s - F_micro: %f - F_macro: %f - missing: %s\"\n",
    "                  % (split_indx, f_micro, f_macro, missing_classes))\n",
    "        plt.show()\n",
    "    return [f_micro, f_macro]"
   ]
  },
  {
   "cell_type": "code",
   "execution_count": 22,
   "metadata": {},
   "outputs": [],
   "source": [
    "def splitNvalidation(n):\n",
    "    run = 0\n",
    "    data_len = len(temp_data)\n",
    "    chunk = data_len // n\n",
    "    chunk_leftovers = data_len % n\n",
    "    offset = 0\n",
    "    result = []\n",
    "    for i in range(n - 1):\n",
    "        train_data = np.asarray(temp_data[:offset] + temp_data[offset + chunk:], dtype=np.float32)\n",
    "        test_data = np.asarray(temp_data[offset:offset + chunk], dtype=np.float32)\n",
    "\n",
    "        train_label = np.asarray(temp_labels[:offset] + temp_labels[offset + chunk:], dtype=np.uint8)\n",
    "        test_labels = np.asarray(temp_labels[offset:offset + chunk], dtype=np.uint8)\n",
    "\n",
    "\n",
    "        result.append(train(train_data, train_label, test_data, test_labels, split_indx = run))\n",
    "        run += 1\n",
    "        offset += chunk\n",
    "    \n",
    "    #last run with chank and leftovers\n",
    "    chunk += chunk_leftovers\n",
    "    train_data = np.asarray(temp_data[:offset] + temp_data[offset + chunk:], dtype=np.float32)\n",
    "    test_data = np.asarray(temp_data[offset:offset + chunk], dtype=np.float32)\n",
    "\n",
    "    train_label = np.asarray(temp_labels[:offset] + temp_labels[offset + chunk:], dtype=np.uint8)\n",
    "    test_labels = np.asarray(temp_labels[offset:offset + chunk], dtype=np.uint8)\n",
    "\n",
    "    result.append(train(train_data, train_label, test_data, test_labels, split_indx = run))\n",
    "    \n",
    "    # returns mean f1_micro, f1_macro\n",
    "    return [mean([x[i] for x in result]) for i in range(2)]"
   ]
  },
  {
   "cell_type": "markdown",
   "metadata": {},
   "source": [
    "### Nk fold validation"
   ]
  },
  {
   "cell_type": "code",
   "execution_count": 23,
   "metadata": {},
   "outputs": [
    {
     "data": {
      "image/png": "[encoded data removed]",
      "text/plain": [
       "<Figure size 288x144 with 1 Axes>"
      ]
     },
     "metadata": {
      "needs_background": "light"
     },
     "output_type": "display_data"
    },
    {
     "data": {
      "image/png": "[encoded data removed]",
      "text/plain": [
       "<Figure size 288x144 with 1 Axes>"
      ]
     },
     "metadata": {
      "needs_background": "light"
     },
     "output_type": "display_data"
    },
    {
     "data": {
      "image/png": "[encoded data removed]",
      "text/plain": [
       "<Figure size 288x144 with 1 Axes>"
      ]
     },
     "metadata": {
      "needs_background": "light"
     },
     "output_type": "display_data"
    },
    {
     "data": {
      "image/png": "[encoded data removed]",
      "text/plain": [
       "<Figure size 288x144 with 1 Axes>"
      ]
     },
     "metadata": {
      "needs_background": "light"
     },
     "output_type": "display_data"
    },
    {
     "data": {
      "image/png": "[encoded data removed]",
      "text/plain": [
       "<Figure size 288x144 with 1 Axes>"
      ]
     },
     "metadata": {
      "needs_background": "light"
     },
     "output_type": "display_data"
    },
    {
     "data": {
      "image/png": "[encoded data removed]",
      "text/plain": [
       "<Figure size 288x144 with 1 Axes>"
      ]
     },
     "metadata": {
      "needs_background": "light"
     },
     "output_type": "display_data"
    },
    {
     "data": {
      "image/png": "[encoded data removed]",
      "text/plain": [
       "<Figure size 288x144 with 1 Axes>"
      ]
     },
     "metadata": {
      "needs_background": "light"
     },
     "output_type": "display_data"
    },
    {
     "data": {
      "image/png": "[encoded data removed]",
      "text/plain": [
       "<Figure size 288x144 with 1 Axes>"
      ]
     },
     "metadata": {
      "needs_background": "light"
     },
     "output_type": "display_data"
    },
    {
     "data": {
      "image/png": "[encoded data removed]",
      "text/plain": [
       "<Figure size 288x144 with 1 Axes>"
      ]
     },
     "metadata": {
      "needs_background": "light"
     },
     "output_type": "display_data"
    },
    {
     "data": {
      "image/png": "[encoded data removed]",
      "text/plain": [
       "<Figure size 288x144 with 1 Axes>"
      ]
     },
     "metadata": {
      "needs_background": "light"
     },
     "output_type": "display_data"
    },
    {
     "name": "stdout",
     "output_type": "stream",
     "text": [
      "mean F_micro: 0.728396, mean F_macro: 0.631938\n"
     ]
    }
   ],
   "source": [
    "mean_f1_micro, mean_f1_macro = splitNvalidation(10)\n",
    "print(\"mean F_micro: %f, mean F_macro: %f\"\n",
    "      % (mean_f1_micro, mean_f1_macro))"
   ]
  },
  {
   "cell_type": "markdown",
   "metadata": {},
   "source": [
    "# Prediction on test data (submmission ready)"
   ]
  },
  {
   "cell_type": "markdown",
   "metadata": {},
   "source": [
    "### Create data"
   ]
  },
  {
   "cell_type": "code",
   "execution_count": 24,
   "metadata": {},
   "outputs": [],
   "source": [
    "train_data_array = np.asarray(temp_data, dtype=np.float32)\n",
    "train_label_array = np.asarray(temp_labels, dtype=np.uint8)\n",
    "\n",
    "test_data_list = []\n",
    "test_ids_list = []\n",
    "for k, v in temp_test.items():\n",
    "    test_data_list.append(v)\n",
    "    test_ids_list.append(k)\n",
    "\n",
    "test_data_array = np.asarray(test_data_list, dtype=np.float32)"
   ]
  },
  {
   "cell_type": "markdown",
   "metadata": {},
   "source": [
    "### Train model"
   ]
  },
  {
   "cell_type": "code",
   "execution_count": 25,
   "metadata": {},
   "outputs": [
    {
     "name": "stdout",
     "output_type": "stream",
     "text": [
      "Train on 7614 samples, validate on 7614 samples\n",
      "Epoch 1/20\n",
      " - F_micro: 0.840820 - F_macro: 0.699148 - missing clasees: [Product Number]\n",
      " - 18s - loss: 0.9328 - acc: 0.6919 - val_loss: 0.5006 - val_acc: 0.8408\n"
     ]
    },
    {
     "name": "stderr",
     "output_type": "stream",
     "text": [
      "/Users/alan.spark/anaconda3/lib/python3.6/site-packages/sklearn/metrics/classification.py:1143: UndefinedMetricWarning: F-score is ill-defined and being set to 0.0 in labels with no predicted samples.\n",
      "  'precision', 'predicted', average, warn_for)\n"
     ]
    },
    {
     "name": "stdout",
     "output_type": "stream",
     "text": [
      "Epoch 2/20\n",
      " - F_micro: 0.914631 - F_macro: 0.902315 - missing clasees: None\n",
      " - 15s - loss: 0.4978 - acc: 0.8365 - val_loss: 0.2807 - val_acc: 0.9146\n",
      "Epoch 3/20\n",
      " - F_micro: 0.952325 - F_macro: 0.947673 - missing clasees: None\n",
      " - 15s - loss: 0.2896 - acc: 0.9052 - val_loss: 0.1603 - val_acc: 0.9523\n",
      "Epoch 4/20\n",
      " - F_micro: 0.970975 - F_macro: 0.970113 - missing clasees: None\n",
      " - 15s - loss: 0.1714 - acc: 0.9475 - val_loss: 0.0975 - val_acc: 0.9710\n",
      "Epoch 5/20\n",
      " - F_micro: 0.977147 - F_macro: 0.976143 - missing clasees: None\n",
      " - 15s - loss: 0.1096 - acc: 0.9664 - val_loss: 0.0710 - val_acc: 0.9771\n",
      "Epoch 6/20\n",
      " - F_micro: 0.985422 - F_macro: 0.983093 - missing clasees: None\n",
      " - 15s - loss: 0.0766 - acc: 0.9771 - val_loss: 0.0484 - val_acc: 0.9854\n",
      "Epoch 7/20\n",
      " - F_micro: 0.990412 - F_macro: 0.986836 - missing clasees: None\n",
      " - 15s - loss: 0.0519 - acc: 0.9840 - val_loss: 0.0356 - val_acc: 0.9904\n",
      "Epoch 8/20\n",
      " - F_micro: 0.991857 - F_macro: 0.989062 - missing clasees: None\n",
      " - 15s - loss: 0.0442 - acc: 0.9871 - val_loss: 0.0313 - val_acc: 0.9919\n",
      "Epoch 9/20\n",
      " - F_micro: 0.991857 - F_macro: 0.990075 - missing clasees: None\n",
      " - 15s - loss: 0.0376 - acc: 0.9899 - val_loss: 0.0290 - val_acc: 0.9919\n",
      "Epoch 10/20\n",
      " - F_micro: 0.992776 - F_macro: 0.990975 - missing clasees: None\n",
      " - 15s - loss: 0.0319 - acc: 0.9905 - val_loss: 0.0270 - val_acc: 0.9928\n",
      "Epoch 11/20\n",
      " - F_micro: 0.994353 - F_macro: 0.991785 - missing clasees: None\n",
      " - 15s - loss: 0.0360 - acc: 0.9899 - val_loss: 0.0205 - val_acc: 0.9944\n",
      "Epoch 12/20\n",
      " - F_micro: 0.993433 - F_macro: 0.992473 - missing clasees: None\n",
      " - 15s - loss: 0.0242 - acc: 0.9926 - val_loss: 0.0261 - val_acc: 0.9934\n",
      "Epoch 13/20\n",
      " - F_micro: 0.994353 - F_macro: 0.992422 - missing clasees: None\n",
      " - 17s - loss: 0.0238 - acc: 0.9925 - val_loss: 0.0178 - val_acc: 0.9944\n",
      "Epoch 14/20\n",
      " - F_micro: 0.994747 - F_macro: 0.993143 - missing clasees: None\n",
      " - 17s - loss: 0.0235 - acc: 0.9924 - val_loss: 0.0167 - val_acc: 0.9947\n",
      "Epoch 15/20\n",
      " - F_micro: 0.993302 - F_macro: 0.988860 - missing clasees: None\n",
      " - 20s - loss: 0.0224 - acc: 0.9929 - val_loss: 0.0203 - val_acc: 0.9933\n",
      "Epoch 16/20\n",
      " - F_micro: 0.994615 - F_macro: 0.993536 - missing clasees: None\n",
      " - 18s - loss: 0.0213 - acc: 0.9924 - val_loss: 0.0151 - val_acc: 0.9946\n",
      "Epoch 17/20\n",
      " - F_micro: 0.995009 - F_macro: 0.993299 - missing clasees: None\n",
      " - 21s - loss: 0.0186 - acc: 0.9936 - val_loss: 0.0148 - val_acc: 0.9950\n",
      "Epoch 18/20\n",
      " - F_micro: 0.994747 - F_macro: 0.993047 - missing clasees: None\n",
      " - 19s - loss: 0.0196 - acc: 0.9923 - val_loss: 0.0149 - val_acc: 0.9947\n",
      "Epoch 19/20\n",
      " - F_micro: 0.994353 - F_macro: 0.992983 - missing clasees: None\n",
      " - 19s - loss: 0.0235 - acc: 0.9924 - val_loss: 0.0182 - val_acc: 0.9944\n",
      "Epoch 20/20\n",
      " - F_micro: 0.993433 - F_macro: 0.990287 - missing clasees: None\n",
      " - 18s - loss: 0.0227 - acc: 0.9919 - val_loss: 0.0165 - val_acc: 0.9934\n",
      "Final Training - F_micro: 0.993433 - F_macro: 0.990287 - missing: None\n"
     ]
    },
    {
     "data": {
      "image/png": "[encoded data removed]",
      "text/plain": [
       "<Figure size 288x144 with 1 Axes>"
      ]
     },
     "metadata": {
      "needs_background": "light"
     },
     "output_type": "display_data"
    }
   ],
   "source": [
    "predictive_model = get_model()\n",
    "predictive_model.fit(\n",
    "    train_data_array, \n",
    "    train_label_array, \n",
    "    epochs=global_epochs, \n",
    "    verbose=2,\n",
    "    validation_data=(train_data_array.copy(), train_label_array.copy()), \n",
    "    callbacks=[F_Metrics()])\n",
    "\n",
    "f_micro, f_macro, missing_classes, classes_count = predictive_model.custom_metrics\n",
    "\n",
    "print(\"Final Training - F_micro: %f - F_macro: %f - missing: %s\"\n",
    "      % (f_micro, f_macro, missing_classes))\n",
    "\n",
    "x = np.arange(len(dict_id2label))\n",
    "plt.figure(figsize=(4,2))\n",
    "plt.bar(x, classes_count)\n",
    "plt.xticks(x, list(dict_id2label.values()), rotation='vertical')\n",
    "plt.show()"
   ]
  },
  {
   "cell_type": "code",
   "execution_count": 26,
   "metadata": {},
   "outputs": [
    {
     "name": "stdout",
     "output_type": "stream",
     "text": [
      "_________________________________________________________________\n",
      "Layer (type)                 Output Shape              Param #   \n",
      "=================================================================\n",
      "dense_30 (Dense)             multiple                  4306432   \n",
      "_________________________________________________________________\n",
      "dropout_10 (Dropout)         multiple                  0         \n",
      "_________________________________________________________________\n",
      "dense_31 (Dense)             multiple                  131328    \n",
      "_________________________________________________________________\n",
      "dense_32 (Dense)             multiple                  1799      \n",
      "=================================================================\n",
      "Total params: 4,439,559\n",
      "Trainable params: 4,439,559\n",
      "Non-trainable params: 0\n",
      "_________________________________________________________________\n"
     ]
    }
   ],
   "source": [
    "predictive_model.summary()"
   ]
  },
  {
   "cell_type": "markdown",
   "metadata": {},
   "source": [
    "### Predict"
   ]
  },
  {
   "cell_type": "code",
   "execution_count": 27,
   "metadata": {},
   "outputs": [],
   "source": [
    "predictions = predictive_model.predict(test_data_array)"
   ]
  },
  {
   "cell_type": "markdown",
   "metadata": {},
   "source": [
    "### Analsys on submission"
   ]
  },
  {
   "cell_type": "markdown",
   "metadata": {},
   "source": [
    "###  Save submitions result"
   ]
  },
  {
   "cell_type": "code",
   "execution_count": 28,
   "metadata": {},
   "outputs": [],
   "source": [
    "key_2_prediction = {}\n",
    "dict_predicted2amount = {}\n",
    "for indx in range(len(predictions)):\n",
    "    predicted_class = np.argmax(predictions[indx])\n",
    "    if predicted_class not in dict_predicted2amount:\n",
    "        dict_predicted2amount[predicted_class] = 0\n",
    "    dict_predicted2amount[predicted_class] +=1\n",
    "    key_2_prediction[test_ids_list[indx]] = predicted_class\n",
    "    \n"
   ]
  },
  {
   "cell_type": "code",
   "execution_count": 29,
   "metadata": {},
   "outputs": [
    {
     "data": {
      "image/png": "[encoded data removed]",
      "text/plain": [
       "<Figure size 576x288 with 1 Axes>"
      ]
     },
     "metadata": {
      "needs_background": "light"
     },
     "output_type": "display_data"
    }
   ],
   "source": [
    "plt.figure(figsize=(8,4))\n",
    "x = np.arange(len(dict_predicted2amount))\n",
    "data = []\n",
    "titles = []\n",
    "for key, val in dict_predicted2amount.items():\n",
    "    data.append(val)\n",
    "    titles.append(dict_id2label[key])\n",
    "    \n",
    "plt.bar(x, np.asarray(data))\n",
    "plt.xticks(x, titles, rotation='vertical')\n",
    "plt.show()"
   ]
  },
  {
   "cell_type": "code",
   "execution_count": 30,
   "metadata": {},
   "outputs": [],
   "source": [
    "def save_submission():\n",
    "    file_2_read = \"FinNum_test_from_site.json\"\n",
    "    flle_output = \"BRNIR_test.json\"\n",
    "    \n",
    "    path_input = os.path.join(\"..\", \"data\", \"raw\", file_2_read)\n",
    "    path_output = os.path.join(\"..\", \"data\", \"runs\", flle_output)\n",
    "    if category_prop == \"subcategory\":\n",
    "        path_input = path_output\n",
    "\n",
    "    with open(os.path.join(path_input)) as f_r:\n",
    "        data = json.load(f_r)\n",
    "        total_conflicts = 0\n",
    "        total_predictions = 0\n",
    "        for entry in data:\n",
    "            result_categories = []\n",
    "            for indx, num in enumerate(entry[\"target_num\"]):\n",
    "                total_predictions += 1\n",
    "                key = \"%s_%s\" % (entry[\"idx\"], indx)\n",
    "                \n",
    "                if key not in key_2_prediction:\n",
    "                    print(\"WARN: Misssing prediction for key: %s\" % key)\n",
    "                \n",
    "                if category_prop == \"subcategory\":\n",
    "                    predicted_category = dict_sub_categ2categ[dict_id2label[key_2_prediction[key]]]\n",
    "\n",
    "\n",
    "                    if predicted_category != entry[\"category\"][indx]:\n",
    "                        print(\"%s != %s\" %(predicted_category, entry[\"category\"][indx]))\n",
    "                        print(\"WARN: Conflict in predicted category and subcategory for key: %s\" % key)\n",
    "                        total_conflicts +=1\n",
    "                        \n",
    "                result_categories.append(dict_id2label[key_2_prediction[key]])\n",
    "            entry[category_prop] = result_categories\n",
    "        print(\"Total conflicts %s from %s\" % (total_conflicts, len(key_2_prediction)))   \n",
    "        json.dump(data, open(path_output, 'w'))"
   ]
  },
  {
   "cell_type": "code",
   "execution_count": 31,
   "metadata": {},
   "outputs": [
    {
     "name": "stdout",
     "output_type": "stream",
     "text": [
      "Total conflicts 0 from 1255\n"
     ]
    }
   ],
   "source": [
    "save_submission()"
   ]
  },
  {
   "cell_type": "code",
   "execution_count": 32,
   "metadata": {},
   "outputs": [
    {
     "data": {
      "text/plain": [
       "{'relative': 'Percentage',\n",
       " 'support or resistance': 'Monetary',\n",
       " 'date': 'Temporal',\n",
       " 'quote': 'Monetary',\n",
       " 'absolute': 'Percentage',\n",
       " 'Product Number': 'Product Number',\n",
       " 'Indicator': 'Indicator',\n",
       " 'Quantity': 'Quantity',\n",
       " 'time': 'Temporal',\n",
       " 'buy price': 'Monetary',\n",
       " 'sell price': 'Monetary',\n",
       " 'forecast': 'Monetary',\n",
       " 'change': 'Monetary',\n",
       " 'money': 'Monetary',\n",
       " 'stop loss': 'Monetary',\n",
       " 'exercise price': 'Option',\n",
       " 'maturity date': 'Option'}"
      ]
     },
     "execution_count": 32,
     "metadata": {},
     "output_type": "execute_result"
    }
   ],
   "source": [
    "dict_sub_categ2categ"
   ]
  },
  {
   "cell_type": "code",
   "execution_count": null,
   "metadata": {},
   "outputs": [],
   "source": []
  },
  {
   "cell_type": "code",
   "execution_count": null,
   "metadata": {},
   "outputs": [],
   "source": []
  }
 ],
 "metadata": {
  "kernelspec": {
   "display_name": "Python 3",
   "language": "python",
   "name": "python3"
  },
  "language_info": {
   "codemirror_mode": {
    "name": "ipython",
    "version": 3
   },
   "file_extension": ".py",
   "mimetype": "text/x-python",
   "name": "python",
   "nbconvert_exporter": "python",
   "pygments_lexer": "ipython3",
   "version": "3.6.8"
  }
 },
 "nbformat": 4,
 "nbformat_minor": 2
}
